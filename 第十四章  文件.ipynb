{
 "cells": [
  {
   "cell_type": "code",
   "execution_count": 1,
   "metadata": {},
   "outputs": [],
   "source": [
    "import dbm"
   ]
  },
  {
   "cell_type": "code",
   "execution_count": 2,
   "metadata": {},
   "outputs": [],
   "source": [
    "db=dbm.open('captions','c')"
   ]
  },
  {
   "cell_type": "code",
   "execution_count": 3,
   "metadata": {},
   "outputs": [
    {
     "data": {
      "text/plain": [
       "<dbm.dumb._Database at 0x21f3da97fd0>"
      ]
     },
     "execution_count": 3,
     "metadata": {},
     "output_type": "execute_result"
    }
   ],
   "source": [
    "db"
   ]
  },
  {
   "cell_type": "markdown",
   "metadata": {},
   "source": [
    "持久性(persistent)：用于描述长期运行并至少将一部分自身的数据保存在永久存储中的程序。格式化运算符(format operator)：运算符%。读取一个格式化字符串和一个元组，生成一个包含元组中元素的字符串，按照格式化字符串的要求格式化。格式化字符串(format string)：一个包含格式化序列的字符串，和格式化运算符一起使用。"
   ]
  },
  {
   "cell_type": "markdown",
   "metadata": {},
   "source": [
    "格式化序列(format sequence)：格式化字符串中的一个字符序列，例如%d，指定了一个值的格式。文本文件(text file)：保存在类似硬盘的永久存储设备上的字符序列。目录(directory)：一个有命名的文件集合，也叫做文件夹。路径(path)：一个指定一个文件的字符串。相对路径(relative path)：从当前目录开始的路径。绝对路径(absolute path)：从文件系统顶部开始的路径。捕获(catch)：为了防止程序因为异常而终止，使用try和except语句来捕捉异常。数据库(database)：一个内容结构类似字典的文件，将键映射至对应的值。字节对象(bytes object)：和字符串类的对象。shell：一个允许用户输入命令，并通过启用其它程序执行命令的程序。管道对象(pipe object)：一个代表某个正在运行的程序的对象，允许一个Python程序去运行命令并得到运行结果。"
   ]
  },
  {
   "cell_type": "code",
   "execution_count": null,
   "metadata": {},
   "outputs": [],
   "source": []
  }
 ],
 "metadata": {
  "kernelspec": {
   "display_name": "Python 3",
   "language": "python",
   "name": "python3"
  },
  "language_info": {
   "codemirror_mode": {
    "name": "ipython",
    "version": 3
   },
   "file_extension": ".py",
   "mimetype": "text/x-python",
   "name": "python",
   "nbconvert_exporter": "python",
   "pygments_lexer": "ipython3",
   "version": "3.6.5"
  }
 },
 "nbformat": 4,
 "nbformat_minor": 2
}
