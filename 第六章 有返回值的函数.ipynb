{
 "cells": [
  {
   "cell_type": "code",
   "execution_count": 1,
   "metadata": {},
   "outputs": [
    {
     "name": "stdout",
     "output_type": "stream",
     "text": [
      "9 90\n",
      "8100\n"
     ]
    }
   ],
   "source": [
    "def b(z):\n",
    "    prod=a(z,z)\n",
    "    print(z,prod)\n",
    "    return prod\n",
    "\n",
    "def a(x,y):\n",
    "    x=x+1\n",
    "    return x*y\n",
    "\n",
    "def c(x,y,z):\n",
    "    total=x+y+z\n",
    "    square=b(total)**2\n",
    "    return square\n",
    "\n",
    "x=1\n",
    "y=x+1\n",
    "print(c(x,y+3,x+y))\n"
   ]
  },
  {
   "cell_type": "markdown",
   "metadata": {},
   "source": [
    "临时变量(temporary variable)：一个在复杂计算中用于存储过度值的变量。死代码(dead code)：程序中永远无法执行的那部分代码，通常是因为其出现在一个返回语句之后。增量式开发(incremental development)：一种程序开发计划，目的是通过一次增加及测试少量代码的方式，来避免长时间的调试。脚手架代码(scaffolding)：程序开发中使用的代码，但并不是最终版本的一部分。监护人(guardian)：一种编程模式，使用条件语句来检查并处理可能引发错误的情形。"
   ]
  },
  {
   "cell_type": "code",
   "execution_count": null,
   "metadata": {},
   "outputs": [],
   "source": []
  }
 ],
 "metadata": {
  "kernelspec": {
   "display_name": "Python 3",
   "language": "python",
   "name": "python3"
  },
  "language_info": {
   "codemirror_mode": {
    "name": "ipython",
    "version": 3
   },
   "file_extension": ".py",
   "mimetype": "text/x-python",
   "name": "python",
   "nbconvert_exporter": "python",
   "pygments_lexer": "ipython3",
   "version": "3.6.5"
  }
 },
 "nbformat": 4,
 "nbformat_minor": 2
}
