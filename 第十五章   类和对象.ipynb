{
 "cells": [
  {
   "cell_type": "code",
   "execution_count": 2,
   "metadata": {},
   "outputs": [
    {
     "ename": "SyntaxError",
     "evalue": "invalid syntax (<ipython-input-2-d124689d3758>, line 1)",
     "output_type": "error",
     "traceback": [
      "\u001b[1;36m  File \u001b[1;32m\"<ipython-input-2-d124689d3758>\"\u001b[1;36m, line \u001b[1;32m1\u001b[0m\n\u001b[1;33m    class Point\u001b[0m\n\u001b[1;37m               ^\u001b[0m\n\u001b[1;31mSyntaxError\u001b[0m\u001b[1;31m:\u001b[0m invalid syntax\n"
     ]
    }
   ],
   "source": [
    "class Point"
   ]
  },
  {
   "cell_type": "markdown",
   "metadata": {},
   "source": [
    "类(class):一种程序员自定义的类型。类定义创建了一个新的类对象。类对象(class object):包含程序员自定义类型的细节信息的对象。类对象可以被用于创建该类型的实例。实例(instance):属于某个类的对象。实例化(instantiate):创建新的对象。属性(attribute):和某个对象相关联的有命名的值。嵌套对象(embedded object):作为另一个对象的属性存储的对象。浅复制(shallow copy):在复制对象内容的时候，只包含嵌套对象的引用，通过copy模块的copy函数实现。深复制(deep copy):在复制对象内容的时候，既复制对象属性，也复制所有嵌套对象及其中的所有嵌套对象，由copy模块的deepcopy函数实现。对象图(object diagram):展示对象及其属性和属性值的图。"
   ]
  },
  {
   "cell_type": "code",
   "execution_count": null,
   "metadata": {},
   "outputs": [],
   "source": []
  },
  {
   "cell_type": "code",
   "execution_count": null,
   "metadata": {},
   "outputs": [],
   "source": []
  },
  {
   "cell_type": "code",
   "execution_count": null,
   "metadata": {},
   "outputs": [],
   "source": []
  },
  {
   "cell_type": "code",
   "execution_count": null,
   "metadata": {},
   "outputs": [],
   "source": []
  }
 ],
 "metadata": {
  "kernelspec": {
   "display_name": "Python 3",
   "language": "python",
   "name": "python3"
  },
  "language_info": {
   "codemirror_mode": {
    "name": "ipython",
    "version": 3
   },
   "file_extension": ".py",
   "mimetype": "text/x-python",
   "name": "python",
   "nbconvert_exporter": "python",
   "pygments_lexer": "ipython3",
   "version": "3.6.5"
  }
 },
 "nbformat": 4,
 "nbformat_minor": 2
}
