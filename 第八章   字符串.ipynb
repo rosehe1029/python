{
 "cells": [
  {
   "cell_type": "code",
   "execution_count": 1,
   "metadata": {},
   "outputs": [],
   "source": [
    "word='banana'\n",
    "index=word.find('a')"
   ]
  },
  {
   "cell_type": "code",
   "execution_count": 2,
   "metadata": {},
   "outputs": [
    {
     "data": {
      "text/plain": [
       "1"
      ]
     },
     "execution_count": 2,
     "metadata": {},
     "output_type": "execute_result"
    }
   ],
   "source": [
    "index"
   ]
  },
  {
   "cell_type": "markdown",
   "metadata": {},
   "source": [
    "对象(object)：变量可以引用的东西。现在你将对象和值等价使用。序列(sequence)：一个有序的值的集合，每个值通过一个整数索引标识。元素(item)：序列中的一个值。索引(index)：用来选择序列中元素(如字符串中的字符)的一个整数值。在Python中，索引从0开始。切片(slice)：以索引范围指定的字符串片段。空字符串(empty string)：一个没有字符的字符串，长度为0，用两个引号表示。不可变性(immutable)元素不能被改变的序列的性质。遍历(traversal)：对一个序列的所有元素进行迭代，对每一元素执行类似操作。搜索(search)：一种遍历模式，当找到搜索目标时就停止。计数器(counter)：用来计数的变量，通常初始化为0，并以此递增。方法调用(invocation)：执行一个方法的声明.可选参数(optional argument)：一个函数或者一个方法中不必要指定的参数。"
   ]
  },
  {
   "cell_type": "code",
   "execution_count": null,
   "metadata": {},
   "outputs": [],
   "source": []
  }
 ],
 "metadata": {
  "kernelspec": {
   "display_name": "Python 3",
   "language": "python",
   "name": "python3"
  },
  "language_info": {
   "codemirror_mode": {
    "name": "ipython",
    "version": 3
   },
   "file_extension": ".py",
   "mimetype": "text/x-python",
   "name": "python",
   "nbconvert_exporter": "python",
   "pygments_lexer": "ipython3",
   "version": "3.6.5"
  }
 },
 "nbformat": 4,
 "nbformat_minor": 2
}
