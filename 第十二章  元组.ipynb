{
 "cells": [
  {
   "cell_type": "code",
   "execution_count": 1,
   "metadata": {},
   "outputs": [
    {
     "data": {
      "text/plain": [
       "(2, 1)"
      ]
     },
     "execution_count": 1,
     "metadata": {},
     "output_type": "execute_result"
    }
   ],
   "source": [
    "divmod(7,3)"
   ]
  },
  {
   "cell_type": "code",
   "execution_count": 2,
   "metadata": {},
   "outputs": [
    {
     "ename": "ModuleNotFoundError",
     "evalue": "No module named 'structshape'",
     "output_type": "error",
     "traceback": [
      "\u001b[1;31m---------------------------------------------------------------------------\u001b[0m",
      "\u001b[1;31mModuleNotFoundError\u001b[0m                       Traceback (most recent call last)",
      "\u001b[1;32m<ipython-input-2-908c29dd8b61>\u001b[0m in \u001b[0;36m<module>\u001b[1;34m()\u001b[0m\n\u001b[1;32m----> 1\u001b[1;33m \u001b[1;32mfrom\u001b[0m \u001b[0mstructshape\u001b[0m \u001b[1;32mimport\u001b[0m \u001b[0mstructshape\u001b[0m\u001b[1;33m\u001b[0m\u001b[0m\n\u001b[0m",
      "\u001b[1;31mModuleNotFoundError\u001b[0m: No module named 'structshape'"
     ]
    }
   ],
   "source": [
    "from structshape import structshape"
   ]
  },
  {
   "cell_type": "markdown",
   "metadata": {},
   "source": [
    "元组(tuple)：一组不可变的元素的序列。元组赋值(tuple assignment)：一种赋值方式，通过等号右侧的序列向等号左侧的一组变量的元组进行赋值。右侧的表达式先求值，然后其元素被赋值给左侧元组中对应的变量。汇集(gather)：组装可变长度变量元组的一种操作。分散(scatter)：将一个序列变换成一个参数列表的操作。zip对象：使用内建函数zip所返回的结果；它是一个可通过元组序列逐个迭代的对象。迭代器(iterator)：:一个可以对序列进行迭代的对象，但是并不提供列表操作符和方法。数据结构(data structure)：一个由关联值组成的数据集合，通常组织成列表、字典、元组等。"
   ]
  },
  {
   "cell_type": "code",
   "execution_count": null,
   "metadata": {},
   "outputs": [],
   "source": []
  }
 ],
 "metadata": {
  "kernelspec": {
   "display_name": "Python 3",
   "language": "python",
   "name": "python3"
  },
  "language_info": {
   "codemirror_mode": {
    "name": "ipython",
    "version": 3
   },
   "file_extension": ".py",
   "mimetype": "text/x-python",
   "name": "python",
   "nbconvert_exporter": "python",
   "pygments_lexer": "ipython3",
   "version": "3.6.5"
  }
 },
 "nbformat": 4,
 "nbformat_minor": 2
}
