{
 "cells": [
  {
   "cell_type": "code",
   "execution_count": 1,
   "metadata": {},
   "outputs": [
    {
     "name": "stdout",
     "output_type": "stream",
     "text": [
      "diff  #instances\n",
      "17 8\n",
      "18 8\n",
      "26 7\n",
      "27 7\n",
      "35 6\n",
      "36 6\n",
      "44 5\n",
      "45 5\n",
      "53 4\n",
      "54 4\n",
      "62 3\n",
      "63 3\n",
      "\n",
      "daughter  mother\n",
      "2 20\n",
      "13 31\n",
      "24 42\n",
      "35 53\n",
      "46 64\n",
      "57 75\n",
      "68 86\n",
      "79 97\n"
     ]
    },
    {
     "data": {
      "text/plain": [
       "8"
      ]
     },
     "execution_count": 1,
     "metadata": {},
     "output_type": "execute_result"
    }
   ],
   "source": [
    "\n",
    "from __future__ import print_function, division\n",
    "\n",
    "\n",
    "def str_fill(i, n):\n",
    "    \"\"\"Returns i as a string with at least n digits.\n",
    "\n",
    "    i: int\n",
    "    n: int length\n",
    "\n",
    "    returns: string\n",
    "    \"\"\"\n",
    "    return str(i).zfill(n)\n",
    "\n",
    "\n",
    "def are_reversed(i, j):\n",
    "    \"\"\"Checks if i and j are the reverse of each other.\n",
    "\n",
    "    i: int\n",
    "    j: int\n",
    "\n",
    "    returns:bool\n",
    "    \"\"\"\n",
    "    return str_fill(i, 2) == str_fill(j, 2)[::-1]\n",
    "\n",
    "\n",
    "def num_instances(diff, flag=False):\n",
    "    \"\"\"Counts the number of palindromic ages.\n",
    "\n",
    "    Returns the number of times the mother and daughter have\n",
    "    palindromic ages in their lives, given the difference in age.\n",
    "\n",
    "    diff: int difference in ages\n",
    "    flag: bool, if True, prints the details\n",
    "    \"\"\"\n",
    "    daughter = 0\n",
    "    count = 0\n",
    "    while True:\n",
    "        mother = daughter + diff\n",
    "\n",
    "        # assuming that mother and daughter don't have the same birthday,\n",
    "        # they have two chances per year to have palindromic ages.\n",
    "        if are_reversed(daughter, mother) or are_reversed(daughter, mother+1):\n",
    "            count = count + 1\n",
    "            if flag:\n",
    "                print(daughter, mother)\n",
    "        if mother > 120:\n",
    "            break\n",
    "        daughter = daughter + 1\n",
    "    return count\n",
    "    \n",
    "\n",
    "def check_diffs():\n",
    "    \"\"\"Finds age differences that satisfy the problem.\n",
    "\n",
    "    Enumerates the possible differences in age between mother\n",
    "    and daughter, and for each difference, counts the number of times\n",
    "    over their lives they will have ages that are the reverse of\n",
    "    each other.\n",
    "    \"\"\"\n",
    "    diff = 10\n",
    "    while diff < 70:\n",
    "        n = num_instances(diff)\n",
    "        if n > 0:\n",
    "            print(diff, n)\n",
    "        diff = diff + 1\n",
    "\n",
    "print('diff  #instances')\n",
    "check_diffs()\n",
    "\n",
    "print()\n",
    "print('daughter  mother')\n",
    "num_instances(18, True)"
   ]
  },
  {
   "cell_type": "markdown",
   "metadata": {},
   "source": [
    "文件对象(file object):代表打开文件的变量。简化为已解决的问题：通过把未知问题简化为已经解决的问题来解决问题的方法。特殊用例(special case):一种不典型或者不明显的测试用例(而且很可能无法正确解决的用例)。"
   ]
  },
  {
   "cell_type": "code",
   "execution_count": null,
   "metadata": {},
   "outputs": [],
   "source": []
  },
  {
   "cell_type": "code",
   "execution_count": null,
   "metadata": {},
   "outputs": [],
   "source": []
  },
  {
   "cell_type": "code",
   "execution_count": null,
   "metadata": {},
   "outputs": [],
   "source": []
  },
  {
   "cell_type": "code",
   "execution_count": null,
   "metadata": {},
   "outputs": [],
   "source": []
  },
  {
   "cell_type": "code",
   "execution_count": null,
   "metadata": {},
   "outputs": [],
   "source": []
  }
 ],
 "metadata": {
  "kernelspec": {
   "display_name": "Python 3",
   "language": "python",
   "name": "python3"
  },
  "language_info": {
   "codemirror_mode": {
    "name": "ipython",
    "version": 3
   },
   "file_extension": ".py",
   "mimetype": "text/x-python",
   "name": "python",
   "nbconvert_exporter": "python",
   "pygments_lexer": "ipython3",
   "version": "3.6.5"
  }
 },
 "nbformat": 4,
 "nbformat_minor": 2
}
