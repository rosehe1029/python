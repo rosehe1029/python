{
 "cells": [
  {
   "cell_type": "code",
   "execution_count": 1,
   "metadata": {},
   "outputs": [],
   "source": [
    "def add_time(t1 , t2):\n",
    "    sum= Time()\n",
    "    sum.hour = t1.hour + t2.hour\n",
    "    sum.minute = t1.minute + t2.minute\n",
    "    sum.second = t1.second + t2.second\n",
    "    if sum.second  >= 60:\n",
    "        sum.second"
   ]
  },
  {
   "cell_type": "markdown",
   "metadata": {},
   "source": [
    "原型和补丁(prototype and patch):一种开发方案，编写一个程序的初稿，测试，发现错误时修正它们。设计开发(designed development):一种开发方案，需要对问题有更高层次的理解，比增量开发或原型开发更有计划性。纯函数(pure function):一种不修改任何作为参数传入的对象的函数。大部分纯函数是有返回值的(fruitful)。修改器(modifier):一种修改一个或多个作为参数传入的对象的函数。大部分修改器没有返回值；即返回None函数式编程风格(functional programming style):一种程序设计风格，大部分函数为纯函数。不变式(invariant):在程序执行过程中总是为真的条件。(assert statement):一种检查条件是否满足并在失败的情况下抛出异常的语句"
   ]
  },
  {
   "cell_type": "code",
   "execution_count": null,
   "metadata": {},
   "outputs": [],
   "source": []
  }
 ],
 "metadata": {
  "kernelspec": {
   "display_name": "Python 3",
   "language": "python",
   "name": "python3"
  },
  "language_info": {
   "codemirror_mode": {
    "name": "ipython",
    "version": 3
   },
   "file_extension": ".py",
   "mimetype": "text/x-python",
   "name": "python",
   "nbconvert_exporter": "python",
   "pygments_lexer": "ipython3",
   "version": "3.6.5"
  }
 },
 "nbformat": 4,
 "nbformat_minor": 2
}
