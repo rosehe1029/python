{
 "cells": [
  {
   "cell_type": "markdown",
   "metadata": {},
   "source": [
    "封装(encapsulation)：将一个语句序列转换成函数定义的过程。泛化(generalization)：使用某种可以算是比较通用的东西(像变量和形参)，替代某些没必要那么具体的东西(像一个数字)的过程。关键字实参(keyword argument)：包括了形参名称作为“关键字”的实参。接口(interface)：对如何使用一个函数的描述，包括函数名、参数说明和返回值。重构(refactoring)：修改一个正常运行的函数，改善函数接口及其他方面代码质量的过程。开发计划(development plan)：编写程序的一种过程。文档字符串(docstring)：出现在函数定义顶部的一个字符串，用于记录函数的接口。先决条件(preconditions)：在函数运行之前，调用者应该满足的要求。后置条件(postconditions)：函数终止之前应该满足的条件。"
   ]
  },
  {
   "cell_type": "code",
   "execution_count": null,
   "metadata": {},
   "outputs": [],
   "source": []
  },
  {
   "cell_type": "code",
   "execution_count": null,
   "metadata": {},
   "outputs": [],
   "source": []
  },
  {
   "cell_type": "code",
   "execution_count": null,
   "metadata": {},
   "outputs": [],
   "source": []
  }
 ],
 "metadata": {
  "kernelspec": {
   "display_name": "Python 3",
   "language": "python",
   "name": "python3"
  },
  "language_info": {
   "codemirror_mode": {
    "name": "ipython",
    "version": 3
   },
   "file_extension": ".py",
   "mimetype": "text/x-python",
   "name": "python",
   "nbconvert_exporter": "python",
   "pygments_lexer": "ipython3",
   "version": "3.6.5"
  }
 },
 "nbformat": 4,
 "nbformat_minor": 2
}
