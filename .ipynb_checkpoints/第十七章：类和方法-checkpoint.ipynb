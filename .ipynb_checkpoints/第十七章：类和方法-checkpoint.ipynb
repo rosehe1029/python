{
 "cells": [
  {
   "cell_type": "code",
   "execution_count": 1,
   "metadata": {},
   "outputs": [],
   "source": [
    "class Time:\n",
    "    def print_time(time):\n",
    "        print('%.2d:%.2d:%.2d'% (time.hour , time.minute , time.second))"
   ]
  },
  {
   "cell_type": "markdown",
   "metadata": {},
   "source": [
    "面向对象的语言(object-oriented language):提供有助于面向对象编程特性的语言，如程序员自定义类型和方法。面向对象编程(object-oriented programming):一种编程风格，数据和处理数据的操作被组织成类和方法。方法(method):在类定义内部定义的一个函数，必须在该类的实例上调用。主语(subject):方法在该对象上调用。位置参数(positional argument):不包括形参名的实参，所以不是关键字实参。运算符重载(operator overloading):改变类似+的运算符，使其可以应用于程序员自定义类型。类型分发(type-based dispatch):一种检查运算符的类型，并根据类型不同调用不同函数的编程模式。多态的(polymorphic):描述一个可应用于多种类型的函数。信息隐藏(information hiding):对象提供的接口不应依赖于其实现的原则，尤其是其属性的表示形式。"
   ]
  },
  {
   "cell_type": "code",
   "execution_count": null,
   "metadata": {},
   "outputs": [],
   "source": []
  },
  {
   "cell_type": "code",
   "execution_count": null,
   "metadata": {},
   "outputs": [],
   "source": []
  },
  {
   "cell_type": "code",
   "execution_count": null,
   "metadata": {},
   "outputs": [],
   "source": []
  },
  {
   "cell_type": "code",
   "execution_count": null,
   "metadata": {},
   "outputs": [],
   "source": []
  },
  {
   "cell_type": "code",
   "execution_count": null,
   "metadata": {},
   "outputs": [],
   "source": []
  }
 ],
 "metadata": {
  "kernelspec": {
   "display_name": "Python 3",
   "language": "python",
   "name": "python3"
  },
  "language_info": {
   "codemirror_mode": {
    "name": "ipython",
    "version": 3
   },
   "file_extension": ".py",
   "mimetype": "text/x-python",
   "name": "python",
   "nbconvert_exporter": "python",
   "pygments_lexer": "ipython3",
   "version": "3.6.5"
  }
 },
 "nbformat": 4,
 "nbformat_minor": 2
}
