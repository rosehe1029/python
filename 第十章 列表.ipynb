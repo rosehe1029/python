{
 "cells": [
  {
   "cell_type": "code",
   "execution_count": 1,
   "metadata": {},
   "outputs": [
    {
     "data": {
      "text/plain": [
       "['a', 'b', 'c', 'd']"
      ]
     },
     "execution_count": 1,
     "metadata": {},
     "output_type": "execute_result"
    }
   ],
   "source": [
    "t=['a','b','c']\n",
    "t.append('d')\n",
    "t"
   ]
  },
  {
   "cell_type": "code",
   "execution_count": 2,
   "metadata": {},
   "outputs": [
    {
     "name": "stdout",
     "output_type": "stream",
     "text": [
      "21\n",
      "[1, 3, 6]\n",
      "[2, 3]\n",
      "[2, 3]\n",
      "True\n",
      "False\n",
      "True\n",
      "False\n",
      "True\n",
      "False\n",
      "True\n"
     ]
    }
   ],
   "source": [
    "\n",
    "from __future__ import print_function, division\n",
    "\n",
    "import random\n",
    "\n",
    "\n",
    "def nested_sum(t):\n",
    "    \"\"\"Computes the total of all numbers in a list of lists.\n",
    "   \n",
    "    t: list of list of numbers\n",
    "\n",
    "    returns: number\n",
    "    \"\"\"\n",
    "    total = 0\n",
    "    for nested in t:\n",
    "        total += sum(nested)\n",
    "    return total\n",
    "\n",
    "\n",
    "def cumsum(t):\n",
    "    \"\"\"Computes the cumulative sum of the numbers in t.\n",
    "\n",
    "    t: list of numbers\n",
    "\n",
    "    returns: list of numbers\n",
    "    \"\"\"\n",
    "    total = 0\n",
    "    res = []\n",
    "    for x in t:\n",
    "        total += x\n",
    "        res.append(total)\n",
    "    return res\n",
    "\n",
    "\n",
    "def middle(t):\n",
    "    \"\"\"Returns all but the first and last elements of t.\n",
    "\n",
    "    t: list\n",
    "\n",
    "    returns: new list\n",
    "    \"\"\"\n",
    "    return t[1:-1]\n",
    "\n",
    "\n",
    "def chop(t):\n",
    "    \"\"\"Removes the first and last elements of t.\n",
    "\n",
    "    t: list\n",
    "\n",
    "    returns: None\n",
    "    \"\"\"\n",
    "    del t[0]\n",
    "    del t[-1]\n",
    "\n",
    "\n",
    "def is_sorted(t):\n",
    "    \"\"\"Checks whether a list is sorted.\n",
    "\n",
    "    t: list\n",
    "\n",
    "    returns: boolean\n",
    "    \"\"\"\n",
    "    return t == sorted(t)\n",
    "\n",
    "\n",
    "def is_anagram(word1, word2):\n",
    "    \"\"\"Checks whether two words are anagrams\n",
    "\n",
    "    word1: string or list\n",
    "    word2: string or list\n",
    "\n",
    "    returns: boolean\n",
    "    \"\"\"\n",
    "    return sorted(word1) == sorted(word2)\n",
    "\n",
    "\n",
    "def has_duplicates(s):\n",
    "    \"\"\"Returns True if any element appears more than once in a sequence.\n",
    "\n",
    "    s: string or list\n",
    "\n",
    "    returns: bool\n",
    "    \"\"\"\n",
    "    # make a copy of t to avoid modifying the parameter\n",
    "    t = list(s)\n",
    "    t.sort()\n",
    "\n",
    "    # check for adjacent elements that are equal\n",
    "    for i in range(len(t)-1):\n",
    "        if t[i] == t[i+1]:\n",
    "            return True\n",
    "    return False\n",
    "\n",
    "\n",
    "def main():\n",
    "    t = [[1, 2], [3], [4, 5, 6]]\n",
    "    print(nested_sum(t))\n",
    "\n",
    "    t = [1, 2, 3]\n",
    "    print(cumsum(t))\n",
    "\n",
    "    t = [1, 2, 3, 4]\n",
    "    print(middle(t))\n",
    "    chop(t)\n",
    "    print(t)\n",
    "\n",
    "    print(is_sorted([1, 2, 2]))\n",
    "    print(is_sorted(['b', 'a']))\n",
    "\n",
    "    print(is_anagram('stop', 'pots'))\n",
    "    print(is_anagram('different', 'letters'))\n",
    "    print(is_anagram([1, 2, 2], [2, 1, 2]))\n",
    "\n",
    "    print(has_duplicates('cba'))\n",
    "    print(has_duplicates('abba'))\n",
    "\n",
    "\n",
    "if __name__ == '__main__':\n",
    "    main()"
   ]
  },
  {
   "cell_type": "markdown",
   "metadata": {},
   "source": [
    "列表(list):多个值组成的序列。元素(element):列表(或序列)中的一个值，也称为项。"
   ]
  },
  {
   "cell_type": "markdown",
   "metadata": {},
   "source": [
    "嵌套列表(nested list):作为另一个列表的元素的列表。累加器(accumulator):循环中用于相加或累积出一个结果的变量。增量赋值语句(augmented assignment):一个使用类似+=操作符来更新一个变量的值的语句。归并(reduce):遍历序列，将所有元素求和为一个值的处理模式。映射(map):遍历序列，对每个元素执行操作的处理模式。筛选(filter):遍历序列，选出满足一定标准的元素的处理模式。对象(object)变量可以指向的东西。一个对象有数据类型和值。相等(equivalent):有相同的值。相同(identical):是同一个对象(隐含着相等)。引用(reference):一个变量和它的值之间的关联。别名使用:两个或者两个以上变量指向同一个对象的情况。分隔符(delimiter):一个用于指示字符串分割位置的字符或者字符串。"
   ]
  },
  {
   "cell_type": "code",
   "execution_count": null,
   "metadata": {},
   "outputs": [],
   "source": []
  }
 ],
 "metadata": {
  "kernelspec": {
   "display_name": "Python 3",
   "language": "python",
   "name": "python3"
  },
  "language_info": {
   "codemirror_mode": {
    "name": "ipython",
    "version": 3
   },
   "file_extension": ".py",
   "mimetype": "text/x-python",
   "name": "python",
   "nbconvert_exporter": "python",
   "pygments_lexer": "ipython3",
   "version": "3.6.5"
  }
 },
 "nbformat": 4,
 "nbformat_minor": 2
}
