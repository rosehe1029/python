{
 "cells": [
  {
   "cell_type": "markdown",
   "metadata": {},
   "source": [
    "调试，是你能获得的最重要的技能之一。虽然调试会让人沮丧，但却是编程过程中最富含智慧、挑战以及乐趣的一部分。在某些方面，调试像是侦探工作。你面对一些线索，必须推理出是什么进程(processes)和事件(events)导致了你看到的结果。调试也像是一门实验性科学。一旦你猜到大概哪里出错了，你可以修改程序，再试一次。如果你的假设是正确的，那么你就可以预测到修改的结果，并且离正常运行的程序又近了一步。如果你的假设是错误的，你就不得不再提一个新的假设。如夏洛克·福尔摩斯所指出的‘‘当你排除了所有的不可能，无论剩下的是什么，不管多么难以置信，一定就是真相。’’（阿瑟·柯南·道尔，《四签名》）对某些人来说，编程和调试是同一件事。也就是说，编程是逐步调试一个程序，直到它满足了你期待的过程。这意味着，你应该从一个能正常运行(working)的程序开始，每次只做一些小改动，并同步进行调试。举个例子，Linux是一个有着数百万行代码的操作系统但是它一开始，只是Linus Tor-valds写的一个用于研究Intel 80386芯片的简单程序。根据Larry Greenfield的描述，“Linus的早期项目中，有一个能够交替打印AAAA和BBBB的程序。这个程序后来演变为了Linux。”（Linux用户手册Beta版本1）。"
   ]
  },
  {
   "cell_type": "markdown",
   "metadata": {},
   "source": [
    "函数(function)：执行某种有用运算的命名语句序列。函数可以接受形参，也可以不接受；可以返回一个结果，也可以不返回。函数定义(function definition：)创建一个新函数的语句，指定了函数名、形参以及所包含的语句。函数对象(function object)：函数定义所创建的一个值。函数名是一个指向函数对象的变量。函数头(header)：函数定义的第一行。函数体(body)：函数定义内部的语句序列。形参(parameters)：函数内部用于指向被传作实参的值的名字。函数调用(function call)：运行一个函数的语句。它包括了函数名，紧随其后的实参列表，实参用圆括号包围起来。实参(argument)：函数调用时传给函数的值。这个值被赋给函数中相对应的形参。局部变量(local variable)：函数内部定义的变量。局部变量只能在函数内部使用。返回值(return value)：函数执行的结果。如果函数调用被用作表达式，其返回值是这个表达式的值。有返回值函数(fruitful function)：会返回一个值的函数。无返回值函数(void function)：总是返回None的函数。None：无返回值函数返回的一个特殊值。模块(module)：包含了一组相关函数及其他定义的的文件。导入语句(import statement)：读取一个模块文件，并创建一个模块对象的语句。模块对象(module object)：导入语句创建的一个值，可以让开发者访问模块内部定义的值。点标记法(dot notation)：调用另一个模块中函数的语法，需要指定模块名称，之后跟着一个点（句号）和函数名。组合(composition)：将一个表达式嵌入一个更长的表达式，或者是将一个语句嵌入一个更长语句的一部分。执行流程(flow of execution)：语句执行的顺序。"
   ]
  },
  {
   "cell_type": "markdown",
   "metadata": {},
   "source": [
    "函数(function)：执行某种有用运算的命名语句序列。函数可以接受形参，也可以不接受；可以返回一个结果，也可以不返回。函数定义(function definition：)创建一个新函数的语句，指定了函数名、形参以及所包含的语句。函数对象(function object)：函数定义所创建的一个值。函数名是一个指向函数对象的变量。函数头(header)：函数定义的第一行。函数体(body)：函数定义内部的语句序列。形参(parameters)：函数内部用于指向被传作实参的值的名字。函数调用(function call)：运行一个函数的语句。它包括了函数名，紧随其后的实参列表，实参用圆括号包围起来。实参(argument)：函数调用时传给函数的值。这个值被赋给函数中相对应的形参。局部变量(local variable)：函数内部定义的变量。局部变量只能在函数内部使用。返回值(return value)：函数执行的结果。如果函数调用被用作表达式，其返回值是这个表达式的值。有返回值函数(fruitful function)：会返回一个值的函数。无返回值函数(void function)：总是返回None的函数。None：无返回值函数返回的一个特殊值。模块(module)：包含了一组相关函数及其他定义的的文件。导入语句(import statement)：读取一个模块文件，并创建一个模块对象的语句。模块对象(module object)：导入语句创建的一个值，可以让开发者访问模块内部定义的值。点标记法(dot notation)：调用另一个模块中函数的语法，需要指定模块名称，之后跟着一个点（句号）和函数名。组合(composition)：将一个表达式嵌入一个更长的表达式，或者是将一个语句嵌入一个更长语句的一部分。执行流程(flow of execution)：语句执行的顺序"
   ]
  },
  {
   "cell_type": "markdown",
   "metadata": {},
   "source": [
    "堆栈图(stack diagram)：一种图形化表示堆栈的方法，堆栈中包括函数、函数的变量及其所指向的值。栈帧(frame)：堆栈图中一个栈帧，代表一个函数调用。其中包含了函数的局部变量和形参。回溯(traceback)：当出现异常时，解释器打印出的出错时正在执行的函数列表。"
   ]
  },
  {
   "cell_type": "code",
   "execution_count": null,
   "metadata": {},
   "outputs": [],
   "source": []
  }
 ],
 "metadata": {
  "kernelspec": {
   "display_name": "Python 3",
   "language": "python",
   "name": "python3"
  },
  "language_info": {
   "codemirror_mode": {
    "name": "ipython",
    "version": 3
   },
   "file_extension": ".py",
   "mimetype": "text/x-python",
   "name": "python",
   "nbconvert_exporter": "python",
   "pygments_lexer": "ipython3",
   "version": "3.6.5"
  }
 },
 "nbformat": 4,
 "nbformat_minor": 2
}
