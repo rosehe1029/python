{
 "cells": [
  {
   "cell_type": "code",
   "execution_count": 1,
   "metadata": {},
   "outputs": [
    {
     "data": {
      "text/plain": [
       "'!\"#$%&\\'()*+,-./:;<=>?@[\\\\]^_`{|}~'"
      ]
     },
     "execution_count": 1,
     "metadata": {},
     "output_type": "execute_result"
    }
   ],
   "source": [
    "import  string\n",
    "string.punctuation"
   ]
  },
  {
   "cell_type": "code",
   "execution_count": 2,
   "metadata": {},
   "outputs": [
    {
     "name": "stdout",
     "output_type": "stream",
     "text": [
      "0.8105515413772609\n",
      "0.7120399726405866\n",
      "0.6425985237179117\n",
      "0.8805430791502394\n",
      "0.37843444380540203\n",
      "0.10903694700428257\n",
      "0.6520658196440295\n",
      "0.6856030669977803\n",
      "0.32907074663773994\n",
      "0.7695906330165125\n"
     ]
    }
   ],
   "source": [
    "import random\n",
    "for i in range(10):\n",
    "    x = random.random ()\n",
    "    print(x)"
   ]
  },
  {
   "cell_type": "markdown",
   "metadata": {},
   "source": [
    "确定性的(deterministic)：指的是给定相同的输入，一个程序每次运行的结果是一样的。伪随机(pseudorandom)：指的是一串数字看上去是随机的，但是实际是由一个确定性程序生成的。默认值：没有提供实参时，赋给可选形参的值。覆盖：用实参替代默认值。基准测试(benchmarking)：通过可能的输入样本对使用不同数据结构的实现进行测试，从而选择数据结构的过程。小黄鸭调试法(rubberducking)：通过向小黄鸭这样的非生物体解释你的问题来进行调试。清晰地陈述问题可以帮助你解决问题，即使小黄鸭并不懂Python。"
   ]
  },
  {
   "cell_type": "code",
   "execution_count": null,
   "metadata": {},
   "outputs": [],
   "source": []
  }
 ],
 "metadata": {
  "kernelspec": {
   "display_name": "Python 3",
   "language": "python",
   "name": "python3"
  },
  "language_info": {
   "codemirror_mode": {
    "name": "ipython",
    "version": 3
   },
   "file_extension": ".py",
   "mimetype": "text/x-python",
   "name": "python",
   "nbconvert_exporter": "python",
   "pygments_lexer": "ipython3",
   "version": "3.6.5"
  }
 },
 "nbformat": 4,
 "nbformat_minor": 2
}
